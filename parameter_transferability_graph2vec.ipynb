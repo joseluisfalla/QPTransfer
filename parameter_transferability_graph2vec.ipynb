{
 "cells": [
  {
   "cell_type": "code",
   "execution_count": null,
   "id": "8a21ef5e-42bf-407e-add5-9c27766b4716",
   "metadata": {},
   "outputs": [],
   "source": [
    "import numpy as np\n",
    "import networkx as nx\n",
    "import scipy\n",
    "from karateclub.graph_embedding import Graph2Vec\n",
    "import torch\n",
    "from qtensor import QAOA_energy"
   ]
  },
  {
   "cell_type": "code",
   "execution_count": null,
   "id": "0b5c91db-5887-423b-89d9-317ff5c6978c",
   "metadata": {},
   "outputs": [],
   "source": [
    "def matrices_to_graphs(matrix_list):\n",
    "    '''\n",
    "    This function takes a list of adjacency matrices and generates a list of graphs.\n",
    "    '''\n",
    "\n",
    "    g_list = []\n",
    "    for matrix in matrix_list:\n",
    "        array = np.array(matrix)\n",
    "        g = nx.from_numpy_array(array)\n",
    "        g_list.append(g)\n",
    "\n",
    "    return g_list"
   ]
  },
  {
   "cell_type": "code",
   "execution_count": null,
   "id": "35f71449-7c1e-4648-b51d-b200bbff5acb",
   "metadata": {},
   "outputs": [],
   "source": [
    "# Import training graph list\n",
    "training_file = open(\"29260_40_node_random_graphs.txt\")\n",
    "training_matrix_list = np.loadtxt(training_file).reshape(29260, 40, 40)\n",
    "training_graph_list = matrices_to_graphs(training_matrix_list)"
   ]
  },
  {
   "cell_type": "code",
   "execution_count": null,
   "id": "9f20bf67-a8dc-4888-88a8-a1866abb0615",
   "metadata": {},
   "outputs": [],
   "source": [
    "# Import testing graph list\n",
    "test_file = open(\"36_40_node_random_graphs.txt\")\n",
    "test_matrix_list = np.loadtxt(test_file).reshape(36, 40, 40)\n",
    "test_graph_list = matrices_to_graphs(test_matrix_list)"
   ]
  },
  {
   "cell_type": "code",
   "execution_count": null,
   "id": "25cee22e-89a2-406f-9d6b-996a878ec9bd",
   "metadata": {},
   "outputs": [],
   "source": [
    "# Train Graph2Vec model (the number of epochs and learning rate hyperparameters are chosen for this particular training set)\n",
    "model = Graph2Vec(epochs=100, learning_rate=0.065)\n",
    "model.fit(training_graph_list)\n",
    "model_array = model.get_embedding()"
   ]
  },
  {
   "cell_type": "code",
   "execution_count": null,
   "id": "7c1d4408-e0d3-4e05-83d5-18bb3b8d1188",
   "metadata": {},
   "outputs": [],
   "source": [
    "def find_indices(vector):\n",
    "    '''\n",
    "    This function returns the indices from the first three closest and last three furthest graphs\n",
    "    in embedded space to the test graph. The first index in the array corresponds to the graph that\n",
    "    is most similar, while the last index corresponds to the most dissimilar.\n",
    "    '''\n",
    "    \n",
    "    length = len(vector)\n",
    "    sorted_vector = sorted(vector)\n",
    "    \n",
    "    max_value = sorted_vector[length - 1]\n",
    "    second_max_value = sorted_vector[length - 2]\n",
    "    third_max_value = sorted_vector[length - 3]\n",
    "    \n",
    "    min_value = sorted_vector[0]\n",
    "    second_min_value = sorted_vector[1]\n",
    "    third_min_value = sorted_vector[2]\n",
    "    \n",
    "    for i in range(len(vector)):\n",
    "        if vector[i] == max_value:\n",
    "            max_index = vector.index(vector[i])\n",
    "        if vector[i] == second_max_value:\n",
    "            second_max_index = vector.index(vector[i])\n",
    "        if vector[i] == third_max_value:\n",
    "            third_max_index = vector.index(vector[i])\n",
    "        if vector[i] == min_value:\n",
    "            min_index = vector.index(vector[i])\n",
    "        if vector[i] == second_min_value:\n",
    "            second_min_index = vector.index(vector[i])\n",
    "        if vector[i] == third_min_value:\n",
    "            third_min_index = vector.index(vector[i])\n",
    "        else:\n",
    "            continue\n",
    "            \n",
    "    indices = [min_index, second_min_index, third_min_index, third_max_index, second_max_index, max_index]\n",
    "    \n",
    "    return indices"
   ]
  },
  {
   "cell_type": "code",
   "execution_count": null,
   "id": "919e0c99-588a-4c34-80d2-6f3a6287e7da",
   "metadata": {},
   "outputs": [],
   "source": [
    "def euclidean_distance(model_vector, infer_vector):\n",
    "    '''\n",
    "    This function calculates the Euclidean distance between two (graph) embedded vectors.\n",
    "    '''\n",
    "    \n",
    "    diffs = []\n",
    "    \n",
    "    for i in range(len(model_vector)):\n",
    "        \n",
    "        diff = (model_vector[i] - infer_vector[0][i])**2\n",
    "        diffs.append(diff)\n",
    "    \n",
    "    return np.sqrt(sum(diffs))"
   ]
  },
  {
   "cell_type": "code",
   "execution_count": null,
   "id": "18e0d26f-95bd-4c93-aca2-8b91605f4cf8",
   "metadata": {},
   "outputs": [],
   "source": [
    "# Find indices \n",
    "indices = []\n",
    "\n",
    "for i in range(len(test_graph_list)):\n",
    "    infer_vector = model.infer([test_graph_list[i]])\n",
    "    euclidean_distances = []\n",
    "    for j in range(len(model_array)):\n",
    "        dist = euclidean_distance(model_array[j], infer_vector)\n",
    "        euclidean_distances.append(dist)\n",
    "    index = find_indices(euclidean_distances)\n",
    "    indices.append(index)"
   ]
  },
  {
   "cell_type": "code",
   "execution_count": null,
   "id": "2130b5a9-ccea-4ca1-bed5-cbdde140543e",
   "metadata": {},
   "outputs": [],
   "source": [
    "# Import optimal parameters from graphs in the training set\n",
    "gamma_params_file = open('training_optimal_gammas.txt')\n",
    "gamma_params = np.loadtxt(gamma_params_file).reshape(29260, 20, 3)\n",
    "\n",
    "beta_params_file = open('training_optimal_betas.txt')\n",
    "beta_params = np.loadtxt(beta_params_file).reshape(29260, 20, 3)"
   ]
  },
  {
   "cell_type": "code",
   "execution_count": null,
   "id": "862a8bfc-43fd-44b9-a00b-99607b5e4a5f",
   "metadata": {},
   "outputs": [],
   "source": [
    "# Transfer parameters and compute average energy (over 20 sets of parameters)\n",
    "\n",
    "test_file = open(\"36_40_node_random_graphs.txt\")\n",
    "test_matrix_list = np.loadtxt(test_file).reshape(36, 40, 40)\n",
    "test_graph_list = matrices_to_graphs(test_matrix_list)\n",
    "\n",
    "# Test graphs have to be imported again (for some reason when running the model, graphs get turned into different objects)\n",
    "\n",
    "index = 6 # 3 top indices 3 bottom indices (you can modify this if you only want to run, say, only top indices)\n",
    "multistarts = 20\n",
    "\n",
    "average_transfer_energies = [[0 for x in range(index)] for y in range(multistarts)]\n",
    "\n",
    "for i in range(len(test_graph_list)):\n",
    "    for j in range(index):\n",
    "        transfer_energies = []\n",
    "        for k in range(multistarts):\n",
    "            transfer_energy = QAOA_energy(test_graph_list[i], gamma=gamma_params[indices[i][j]][k], beta=beta_params[indices[i][j]][k])\n",
    "            transfer_energies.append(transfer_energy)\n",
    "            \n",
    "        average_transfer_energy = np.average(transfer_energies)\n",
    "        average_transfer_energies[i][j] = average_transfer_energy"
   ]
  },
  {
   "cell_type": "code",
   "execution_count": null,
   "id": "27c63bf7-275d-4fe7-8cf3-3ebf9b66f3ed",
   "metadata": {},
   "outputs": [],
   "source": []
  }
 ],
 "metadata": {
  "kernelspec": {
   "display_name": "Python 3",
   "language": "python",
   "name": "python3"
  },
  "language_info": {
   "codemirror_mode": {
    "name": "ipython",
    "version": 3
   },
   "file_extension": ".py",
   "mimetype": "text/x-python",
   "name": "python",
   "nbconvert_exporter": "python",
   "pygments_lexer": "ipython3",
   "version": "3.8.13"
  }
 },
 "nbformat": 4,
 "nbformat_minor": 5
}
